{
 "metadata": {
  "language_info": {
   "codemirror_mode": {
    "name": "ipython",
    "version": 3
   },
   "file_extension": ".py",
   "mimetype": "text/x-python",
   "name": "python",
   "nbconvert_exporter": "python",
   "pygments_lexer": "ipython3",
   "version": "3.8.5-final"
  },
  "orig_nbformat": 2,
  "kernelspec": {
   "name": "python38564bit0d9cac4d2a85481a821e3303ad5ece89",
   "display_name": "Python 3.8.5 64-bit",
   "language": "python"
  }
 },
 "nbformat": 4,
 "nbformat_minor": 2,
 "cells": [
  {
   "cell_type": "code",
   "execution_count": 9,
   "metadata": {},
   "outputs": [
    {
     "output_type": "stream",
     "name": "stdout",
     "text": [
      "Mustang\n15000\nBetul\nMustang\nMustang\n"
     ]
    }
   ],
   "source": [
    "car = {\n",
    "  \"brand\": \"Ford\",\n",
    "  \"model\": \"Mustang\",\n",
    "  \"year\": 1964\n",
    "}\n",
    "x = car.get(\"model\")\n",
    "y = car.get(\"price\", 15000)\n",
    "\n",
    "print(x)\n",
    "print(y)\n",
    "\n",
    "def ifelse(int):\n",
    "    if int == 2:\n",
    "        return \"Betul\"\n",
    "print(ifelse(2))\n",
    "\n",
    "def create(self, vals):\n",
    "    if vals.get('brand', 'Ford') == 'Ford':\n",
    "        return \"Bener Ford\"\n",
    "\n",
    "x = car.get(\"model\",\"Mustang\")\n",
    "x2 = car.get(\"model\",\"Ford\")\n",
    "\n",
    "print(x)\n",
    "print(x2)\n",
    "\n"
   ]
  },
  {
   "cell_type": "code",
   "execution_count": 5,
   "metadata": {},
   "outputs": [
    {
     "output_type": "stream",
     "name": "stdout",
     "text": [
      "yes: 62\n62\n"
     ]
    }
   ],
   "source": [
    "\n",
    "def country(self):\n",
    "    print(\"yes:\", 62)\n",
    "    return 62\n",
    "# country_id = fields.Many2one('res.country', \"Country\", change_default=True, default=_get_default_country)\n",
    "\n",
    "print(country(\"yes\"))"
   ]
  },
  {
   "cell_type": "code",
   "execution_count": null,
   "metadata": {},
   "outputs": [],
   "source": []
  }
 ]
}
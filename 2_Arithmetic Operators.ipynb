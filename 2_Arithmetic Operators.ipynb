{
 "metadata": {
  "language_info": {
   "codemirror_mode": {
    "name": "ipython",
    "version": 3
   },
   "file_extension": ".py",
   "mimetype": "text/x-python",
   "name": "python",
   "nbconvert_exporter": "python",
   "pygments_lexer": "ipython3",
   "version": "3.8.5-final"
  },
  "orig_nbformat": 2,
  "kernelspec": {
   "name": "python38564bit0d9cac4d2a85481a821e3303ad5ece89",
   "display_name": "Python 3.8.5 64-bit",
   "language": "python"
  }
 },
 "nbformat": 4,
 "nbformat_minor": 2,
 "cells": [
  {
   "source": [
    "# Hacker Rank\n",
    "[Arithmetic Operators](https://www.hackerrank.com/challenges/python-arithmetic-operators/problem)"
   ],
   "cell_type": "markdown",
   "metadata": {}
  },
  {
   "source": [
    "## My Solution"
   ],
   "cell_type": "markdown",
   "metadata": {}
  },
  {
   "cell_type": "code",
   "execution_count": 7,
   "metadata": {},
   "outputs": [
    {
     "output_type": "stream",
     "name": "stdout",
     "text": [
      "8 \n -2 \n 15\n"
     ]
    }
   ],
   "source": [
    "# a = int(input())\n",
    "# b = int(input())\n",
    "a = 3\n",
    "b = 5\n",
    "print(a+b,\"\\n\",a-b,\"\\n\",a*b)\n",
    "# a-b\n",
    "# a*5"
   ]
  },
  {
   "source": [
    "## Best Practice"
   ],
   "cell_type": "markdown",
   "metadata": {}
  },
  {
   "cell_type": "code",
   "execution_count": 13,
   "metadata": {},
   "outputs": [
    {
     "output_type": "stream",
     "name": "stdout",
     "text": [
      "8 \n-2 \n15\n"
     ]
    }
   ],
   "source": [
    "a,b = 3,5\n",
    "print('{0} \\n{1} \\n{2}'.format((a + b), (a - b), (a * b)))"
   ]
  }
 ]
}
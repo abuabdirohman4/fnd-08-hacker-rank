{
 "metadata": {
  "language_info": {
   "codemirror_mode": {
    "name": "ipython",
    "version": 3
   },
   "file_extension": ".py",
   "mimetype": "text/x-python",
   "name": "python",
   "nbconvert_exporter": "python",
   "pygments_lexer": "ipython3",
   "version": "3.8.5-final"
  },
  "orig_nbformat": 2,
  "kernelspec": {
   "name": "python38564bit0d9cac4d2a85481a821e3303ad5ece89",
   "display_name": "Python 3.8.5 64-bit",
   "language": "python"
  }
 },
 "nbformat": 4,
 "nbformat_minor": 2,
 "cells": [
  {
   "source": [
    "# Hacker Rank\n",
    "[Python If-Else](https://www.hackerrank.com/challenges/py-if-else/problem)"
   ],
   "cell_type": "markdown",
   "metadata": {}
  },
  {
   "source": [
    "## My Solution"
   ],
   "cell_type": "markdown",
   "metadata": {}
  },
  {
   "cell_type": "code",
   "execution_count": 23,
   "metadata": {},
   "outputs": [
    {
     "output_type": "stream",
     "name": "stdout",
     "text": [
      "Not Werid\n"
     ]
    }
   ],
   "source": [
    "n = int(input().strip())\n",
    "\n",
    "def function(input):\n",
    "    # return \"Weird\" if number % 2 else \"Even\"\n",
    "    if input % 2 == 1:\n",
    "        return \"Weird\"\n",
    "    elif input %2 == 0:\n",
    "        if input in range(2,6):\n",
    "            return \"Not Weird\"\n",
    "        elif input in range(6,21):\n",
    "            return \"Weird\"\n",
    "        elif input > 20:\n",
    "            return \"Not Weird\"\n",
    "\n",
    "print(function(n))"
   ]
  },
  {
   "source": [
    "## Best Practice"
   ],
   "cell_type": "markdown",
   "metadata": {}
  },
  {
   "cell_type": "code",
   "execution_count": 1,
   "metadata": {},
   "outputs": [
    {
     "output_type": "stream",
     "name": "stdout",
     "text": [
      "Weird\n"
     ]
    }
   ],
   "source": [
    "n = int(input().strip())\n",
    "check = {True: \"Not Weird\", False: \"Weird\"}\n",
    "\n",
    "print(check[\n",
    "        n%2==0 and (\n",
    "            n in range(2,6) or \n",
    "            n > 20)\n",
    "    ])"
   ]
  }
 ]
}